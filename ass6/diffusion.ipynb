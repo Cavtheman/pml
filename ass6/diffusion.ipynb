{
 "cells": [
  {
   "cell_type": "code",
   "execution_count": 1,
   "id": "26531cc5",
   "metadata": {},
   "outputs": [],
   "source": [
    "import torch\n",
    "import matplotlib.pyplot as plt\n",
    "import numpy as np\n",
    "import torch\n",
    "import torch.nn as nn\n",
    "import torch.nn.functional as F\n",
    "import torch.optim as optim"
   ]
  },
  {
   "cell_type": "code",
   "execution_count": 2,
   "id": "bfb01fd5",
   "metadata": {},
   "outputs": [
    {
     "data": {
      "image/png": "[encoded data removed]",
      "text/plain": [
       "<Figure size 432x288 with 1 Axes>"
      ]
     },
     "metadata": {
      "needs_background": "light"
     },
     "output_type": "display_data"
    }
   ],
   "source": [
    "#target distribution q_D\n",
    "N=1000\n",
    "Xs = np.random.randn(2*N).reshape(N,2)\n",
    "Xs[:,0]*=3\n",
    "Xs[:,1]+= -Xs[:,0]**2\n",
    "\n",
    "plt.figure()\n",
    "plt.scatter(Xs[:,0],Xs[:,1])\n",
    "plt.show()"
   ]
  },
  {
   "cell_type": "code",
   "execution_count": 3,
   "id": "5dabb355",
   "metadata": {},
   "outputs": [],
   "source": [
    "#neural network to learn epsilon(x_t,t). you can pla around with it, but we added it for convenience\n",
    "\n",
    "class Net(nn.Module):\n",
    "    def __init__(self):\n",
    "        super(Net, self).__init__()\n",
    "        self.fc1 = nn.Linear(2, 32)\n",
    "        self.fct = nn.Linear(4, 32)\n",
    "        self.fc2 = nn.Linear(32, 32)\n",
    "        self.fc3 = nn.Linear(32, 2)\n",
    "\n",
    "    def forward(self, x,t):\n",
    "        #we use a time-embedding here. neural networks are terrible at working directly with time as a real variable.\n",
    "        #we therefore replace it by a set of features t_embedding that just represent several sine waves with different\n",
    "        #frequency\n",
    "        omegas = 2*np.pi*torch.tensor([1.0/T,2.0/T,4.0/T,8.0/T]).reshape(1,-1)\n",
    "        t_embedding = torch.cos(omegas*t.reshape(-1,1))\n",
    "        #Network structure: a simple network with two hidden layers. the first\n",
    "        # two fully connected laers are just there to merge the time embedding with the input vector\n",
    "        x = F.relu(self.fc1(x)+self.fct(t_embedding))\n",
    "        x = F.relu(self.fc2(x))\n",
    "        x = self.fc3(x)\n",
    "        return x"
   ]
  },
  {
   "cell_type": "code",
   "execution_count": 6,
   "id": "89e77faa",
   "metadata": {},
   "outputs": [
    {
     "name": "stdout",
     "output_type": "stream",
     "text": [
      "[0.05 0.05 0.05 0.05 0.05 0.05 0.05 0.05 0.05 0.05 0.05 0.05 0.05 0.05\n",
      " 0.05 0.05 0.05 0.05 0.05 0.05 0.05 0.05 0.05 0.05 0.05 0.05 0.05 0.05\n",
      " 0.05 0.05 0.05 0.05 0.05 0.05 0.05 0.05 0.05 0.05 0.05 0.05 0.05 0.05\n",
      " 0.05 0.05 0.05 0.05 0.05 0.05 0.05 0.05 0.05 0.05 0.05 0.05 0.05 0.05\n",
      " 0.05 0.05 0.05 0.05 0.05 0.05 0.05 0.05 0.05 0.05 0.05 0.05 0.05 0.05\n",
      " 0.05 0.05 0.05 0.05 0.05 0.05 0.05 0.05 0.05 0.05 0.05 0.05 0.05 0.05\n",
      " 0.05 0.05 0.05 0.05 0.05 0.05 0.05 0.05 0.05 0.05 0.05 0.05 0.05 0.05\n",
      " 0.05 0.05] 100\n"
     ]
    }
   ],
   "source": [
    "#Task 1: for the given set of T and beta plot the generating distribution q(X_t) for different t=0,30,60,100\n",
    "T=100\n",
    "betas = 0.05*np.ones(T)\n",
    "print (betas, T)\n",
    "\n",
    "x_zero = \n",
    "\n"
   ]
  },
  {
   "cell_type": "code",
   "execution_count": 5,
   "id": "e49a9d49",
   "metadata": {},
   "outputs": [],
   "source": [
    "#Task 2: implement the loss function for gradient descent (eq 76 in th script, or L_simple in the background material)\n",
    "#implement by sampling a random time step t in 0,..,T\n",
    "#params: \n",
    "#    Xs: a batch of samples from the dataset.\n",
    "#    model: the model for learning epsilon.\n",
    "def loss (Xs, model):\n",
    "    return torch.zeros(0)"
   ]
  },
  {
   "cell_type": "code",
   "execution_count": 6,
   "id": "d419e7e8",
   "metadata": {},
   "outputs": [],
   "source": [
    "#train loop. added for your convenience.\n",
    "train_loader = torch.utils.data.DataLoader(torch.tensor(Xs,dtype=torch.float32), batch_size=10)\n",
    "model = Net()\n",
    "optimizer = optim.Adam(model.parameters(), lr=0.001)\n",
    "model.train()\n",
    "num_epochs = 0 #500\n",
    "for e in range(num_epochs):\n",
    "    if e % (num_epochs//10) == 0:\n",
    "        print(\"epoch:\",e)\n",
    "    for data in train_loader:\n",
    "        optimizer.zero_grad()\n",
    "        l = loss(data,model) \n",
    "        l.backward()\n",
    "        optimizer.step()"
   ]
  },
  {
   "cell_type": "code",
   "execution_count": 7,
   "id": "fad2e1b6",
   "metadata": {},
   "outputs": [
    {
     "data": {
      "image/png": "[encoded data removed]",
      "text/plain": [
       "<Figure size 432x288 with 1 Axes>"
      ]
     },
     "metadata": {
      "needs_background": "light"
     },
     "output_type": "display_data"
    }
   ],
   "source": [
    "#Task 3: generate samples from the learned model\n",
    "#num: number of samples to generate\n",
    "#model: the trained model\n",
    "def generate_samples(model, num):\n",
    "    Xs =  torch.normal(0.0,1.0,size=(num,2),dtype=torch.float32)\n",
    "    return Xs\n",
    "samples = generate_samples(model,500).detach().numpy()\n",
    "\n",
    "plt.figure()\n",
    "plt.scatter(samples[:,0],samples[:,1])\n",
    "plt.scatter(Xs[:,0],Xs[:,1])\n",
    "plt.show()"
   ]
  },
  {
   "cell_type": "code",
   "execution_count": null,
   "id": "289d9ea1",
   "metadata": {},
   "outputs": [],
   "source": []
  }
 ],
 "metadata": {
  "kernelspec": {
   "display_name": "Python 3",
   "language": "python",
   "name": "python3"
  },
  "language_info": {
   "codemirror_mode": {
    "name": "ipython",
    "version": 3
   },
   "file_extension": ".py",
   "mimetype": "text/x-python",
   "name": "python",
   "nbconvert_exporter": "python",
   "pygments_lexer": "ipython3",
   "version": "3.8.10"
  },
  "vscode": {
   "interpreter": {
    "hash": "916dbcbb3f70747c44a77c7bcd40155683ae19c65e1c03b4aa3499c5328201f1"
   }
  }
 },
 "nbformat": 4,
 "nbformat_minor": 5
}
