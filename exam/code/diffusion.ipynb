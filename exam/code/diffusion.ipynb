{
 "cells": [
  {
   "cell_type": "code",
   "execution_count": null,
   "metadata": {
    "collapsed": false
   },
   "outputs": [],
   "source": [
    "import einops as ein\n",
    "from einops.layers.torch import Rearrange\n",
    "\n",
    "import torch\n",
    "from torch import nn, optim\n",
    "from torch.nn import functional as F\n",
    "from torchvision.utils import save_image\n",
    "from torchvision import datasets, transforms\n",
    "\n",
    "import matplotlib.pyplot as plt\n",
    "import numpy as np"
   ]
  },
  {
   "cell_type": "code",
   "execution_count": null,
   "metadata": {
    "collapsed": false
   },
   "outputs": [],
   "source": [
    "# Reconstruction + KL divergence losses summed over all elements and batch\n",
    "def loss_function(recon_x, x, mu, logvar):\n",
    "    BCE = F.binary_cross_entropy(recon_x, x, reduction='sum')\n",
    "    KLD = -0.5 * torch.sum(1 + logvar - mu.pow(2) - logvar.exp())\n",
    "    return BCE + KLD # -ELBO"
   ]
  },
  {
   "cell_type": "code",
   "execution_count": null,
   "metadata": {
    "collapsed": false
   },
   "outputs": [],
   "source": [
    "class Diffusion (nn.Module):\n",
    "    def __init__(self, noise_steps=100, latent_dim=2):\n",
    "        super (Diffusion, self).__init__()\n",
    "        self.beta = ein.repeat (torch.tensor ([0.05]), \"() -> a\", a=noise_steps)\n",
    "        self.alpha = 1 - self.beta\n",
    "        self.alpha_bar = torch.cumprod (self.alpha, dim=0)\n",
    "\n",
    "    def q (self, x0, t):\n",
    "        temp = self.alpha_bar[t]\n",
    "        mean = torch.sqrt (temp) * x0\n",
    "        var = 1 - temp\n",
    "        return mean, var\n",
    "        \n",
    "    def sample_q (self, x0, t, epsilon=None):\n",
    "        if epsilon is None:\n",
    "            epsilon = torch.randn_like (x0)\n",
    "\n",
    "        mean, var = self.q (x0, t)\n",
    "        return mean + torch.sqrt (var) * epsilon\n",
    "\n",
    "    def noise_forward (self, data):\n",
    "        return 0\n",
    "\n",
    "    def noise_backward (self, noise):\n",
    "        return 0\n",
    "\n",
    "    "
   ]
  },
  {
   "cell_type": "code",
   "execution_count": null,
   "metadata": {
    "collapsed": false
   },
   "outputs": [],
   "source": [
    "model = Diffusion ()\n",
    "#print (model.beta)\n",
    "#print (model.noise_forward(1))\n",
    "#print (model.alpha_bar)\n",
    "#print (model.q (torch.tensor ([1,2,3]), [0,0,1]))\n",
    "print (model.sample_q (torch.tensor ([1.,2.,3.]), [0,0,1]))"
   ]
  },
  {
   "cell_type": "code",
   "execution_count": null,
   "metadata": {
    "collapsed": false
   },
   "outputs": [],
   "source": []
  }
 ],
 "metadata": {
  "kernelspec": {
   "argv": [
    "/usr/bin/python3",
    "-m",
    "ipykernel_launcher",
    "-f",
    "{connection_file}"
   ],
   "display_name": "Python 3",
   "env": null,
   "interrupt_mode": "signal",
   "language": "python",
   "metadata": null,
   "name": "python3"
  },
  "name": "diffusion.ipynb"
 },
 "nbformat": 4,
 "nbformat_minor": 4
}
