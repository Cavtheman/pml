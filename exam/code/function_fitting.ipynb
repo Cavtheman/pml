{
 "cells": [
  {
   "cell_type": "code",
   "execution_count": null,
   "metadata": {
    "collapsed": false
   },
   "outputs": [],
   "source": [
    "import torch\n",
    "import pyro\n",
    "\n",
    "import matplotlib.pyplot as plt\n",
    "import numpy as np"
   ]
  },
  {
   "cell_type": "code",
   "execution_count": null,
   "metadata": {
    "collapsed": false
   },
   "outputs": [],
   "source": [
    "def f (x):\n",
    "    return np.sin (x) + 2 * np.cos (14 * x) - 2 * np.sin (6 * x)\n",
    "\n",
    "x = [-1, -0.5, 0, 0.5, 1]\n",
    "y = [ f (elem) for elem in x ] "
   ]
  },
  {
   "cell_type": "code",
   "execution_count": null,
   "metadata": {
    "collapsed": false
   },
   "outputs": [],
   "source": [
    "test_x = np.linspace (-1, 1, 100)\n",
    "test_y = f (test_x)\n",
    "plt.plot (test_x, test_y)"
   ]
  }
 ],
 "metadata": {
  "kernelspec": {
   "argv": [
    "/usr/bin/python3",
    "-m",
    "ipykernel_launcher",
    "-f",
    "{connection_file}"
   ],
   "display_name": "Python 3",
   "env": null,
   "interrupt_mode": "signal",
   "language": "python",
   "metadata": null,
   "name": "python3"
  },
  "language_info": {
   "name": "python"
  },
  "name": "function_fitting.ipynb"
 },
 "nbformat": 4,
 "nbformat_minor": 2
}
