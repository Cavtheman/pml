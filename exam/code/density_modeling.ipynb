{
 "cells": [
  {
   "cell_type": "code",
   "execution_count": null,
   "metadata": {
    "collapsed": false
   },
   "outputs": [],
   "source": [
    "import einops as ein\n",
    "from einops.layers.torch import Rearrange\n",
    "\n",
    "import torch\n",
    "from torch import nn, optim\n",
    "from torch.nn import functional as F\n",
    "from torchvision.utils import save_image\n",
    "from torchvision import datasets, transforms\n",
    "\n",
    "import matplotlib.pyplot as plt\n",
    "import numpy as np"
   ]
  },
  {
   "cell_type": "code",
   "execution_count": null,
   "metadata": {
    "collapsed": false
   },
   "outputs": [],
   "source": [
    "# Define VAE model\n",
    "class VAE(nn.Module):\n",
    "    def __init__(self, latent_dim=2):\n",
    "        super(VAE, self).__init__()\n",
    "\n",
    "        self.depth = 4096\n",
    "        self.latent_dim = latent_dim\n",
    "        self.encoder = nn.Sequential (\n",
    "            nn.Conv2d (1, 4, 5),\n",
    "            nn.ReLU (),\n",
    "            nn.Conv2d (4, 8, 5),\n",
    "            nn.ReLU (),\n",
    "            nn.Conv2d (8, 16, 5, stride=1),\n",
    "            nn.ReLU (),\n",
    "            Rearrange (\"batch a b c -> batch (a b c)\")\n",
    "        )\n",
    "        self.mu_encoder = nn.Linear (self.depth, self.latent_dim)\n",
    "        self.log_var_encoder = nn.Linear (self.depth, self.latent_dim)\n",
    "\n",
    "\n",
    "        self.decoder = nn.Sequential (\n",
    "            nn.Linear (self.latent_dim, self.depth),\n",
    "            nn.ReLU (),\n",
    "            Rearrange (\"batch (a b c) -> batch a b c\", a=16, b=16, c=16),\n",
    "            nn.ConvTranspose2d (16, 8, 5, stride=1, output_padding=0),\n",
    "            nn.ReLU (),\n",
    "            nn.ConvTranspose2d (8, 4, 5),\n",
    "            nn.ReLU (),\n",
    "            nn.ConvTranspose2d (4, 1, 5),\n",
    "            nn.Sigmoid ()\n",
    "        )\n",
    "\n",
    "    def encode (self, x):\n",
    "        h1 = self.encoder (x)\n",
    "        return self.mu_encoder (h1), self.log_var_encoder (h1)\n",
    "\n",
    "    def reparameterize(self, mu, logvar):\n",
    "        std = torch.exp(0.5*logvar)\n",
    "        eps = torch.randn_like(std)\n",
    "        return mu + eps*std\n",
    "\n",
    "    def decode(self, z):\n",
    "        return self.decoder (z)\n",
    "\n",
    "    def forward(self, x): # model(data) = model.forward(data)\n",
    "        mu, logvar = self.encode(x)\n",
    "        z = self.reparameterize(mu, logvar)\n",
    "        return self.decode(z), mu, logvar"
   ]
  },
  {
   "cell_type": "code",
   "execution_count": null,
   "metadata": {
    "collapsed": false
   },
   "outputs": [],
   "source": [
    "device = torch.device(\"cuda\" if torch.cuda.is_available() else \"cpu\")\n",
    "print(device)\n",
    "\n",
    "model = VAE(2).to(device)\n",
    "optimizer = optim.Adam(model.parameters(), lr=1e-3)\n",
    "\n",
    "batch_size2 = 128\n",
    "log_interval2 = 10\n",
    "epochs2 = 10\n",
    "\n",
    "#torch.manual_seed(1) # args.seed\n",
    "\n",
    "kwargs = {'num_workers': 4, 'pin_memory': True} if device == \"cuda\" else {} # args.cuda\n",
    "\n",
    "# Get train and test data\n",
    "train_loader = torch.utils.data.DataLoader(\n",
    "    datasets.MNIST('../data', train=True, download=True,\n",
    "                   transform=transforms.ToTensor()),\n",
    "    batch_size=batch_size2, shuffle=True, **kwargs)\n",
    "test_loader = torch.utils.data.DataLoader(\n",
    "    datasets.MNIST('../data', train=False, transform=transforms.ToTensor()),\n",
    "    batch_size=batch_size2, shuffle=True, **kwargs)\n"
   ]
  },
  {
   "cell_type": "code",
   "execution_count": null,
   "metadata": {
    "collapsed": false
   },
   "outputs": [],
   "source": [
    "# Reconstruction + KL divergence losses summed over all elements and batch\n",
    "def loss_function(recon_x, x, mu, logvar):\n",
    "    BCE = F.binary_cross_entropy(recon_x, x, reduction='sum')\n",
    "    KLD = -0.5 * torch.sum(1 + logvar - mu.pow(2) - logvar.exp())\n",
    "    return BCE + KLD # -ELBO\n",
    "\n",
    "\n",
    "def train(epoch):\n",
    "    model.train() # so that everything has gradients and we can do backprop and so on...\n",
    "    train_loss = 0\n",
    "    for batch_idx, (data, _) in enumerate(train_loader):\n",
    "        data = data.to(device)\n",
    "        optimizer.zero_grad() # \"reset\" gradients to 0 for text iteration\n",
    "        recon_batch, mu, logvar = model(data)\n",
    "        loss = loss_function(recon_batch, data, mu, logvar)\n",
    "        loss.backward() # calc gradients\n",
    "        train_loss += loss.item()\n",
    "        optimizer.step() # backpropagation\n",
    "\n",
    "    print('====> Epoch: {} Average loss: {:.4f}'.format(\n",
    "          epoch, train_loss / len(train_loader.dataset)))\n",
    "\n",
    "def test(epoch):\n",
    "    model.eval()\n",
    "    test_loss = 0\n",
    "    with torch.no_grad(): # no_grad turns of gradients...\n",
    "        for i, (data, _) in enumerate(test_loader):\n",
    "            data = data.to(device)\n",
    "            recon_batch, mu, logvar = model(data)\n",
    "            test_loss += loss_function(recon_batch, data, mu, logvar).item()\n",
    "\n",
    "    test_loss /= len(test_loader.dataset)\n",
    "    print('====> Test set loss: {:.4f}'.format(test_loss))\n"
   ]
  },
  {
   "cell_type": "code",
   "execution_count": null,
   "metadata": {
    "collapsed": false
   },
   "outputs": [],
   "source": [
    "num_rows = 20\n",
    "a = torch.linspace(-8., 8.,  num_rows)\n",
    "x_t = a.repeat(num_rows)\n",
    "x_t = x_t.view(num_rows,num_rows)\n",
    "y_t = x_t.t().flip(0)\n",
    "art_nums = torch.stack((x_t, y_t)).view(2,-1).t().to(device)\n",
    "print (art_nums.size())\n",
    "#print (art_nums)"
   ]
  },
  {
   "cell_type": "code",
   "execution_count": null,
   "metadata": {
    "collapsed": false
   },
   "outputs": [],
   "source": [
    "for epoch in range(1, epochs2 + 1):\n",
    "    train(epoch)\n",
    "    test(epoch)\n",
    "    if model.latent_dim == 2:\n",
    "        with torch.no_grad():\n",
    "            sample = model.decode(art_nums).cpu()\n",
    "            save_image(sample.view(-1, 1, 28, 28),\n",
    "                       'results/sample_' + str(epoch) + '.png', nrow=num_rows)"
   ]
  },
  {
   "cell_type": "code",
   "execution_count": null,
   "metadata": {
    "collapsed": false
   },
   "outputs": [],
   "source": []
  }
 ],
 "metadata": {
  "kernelspec": {
   "argv": [
    "/usr/bin/python3",
    "-m",
    "ipykernel_launcher",
    "-f",
    "{connection_file}"
   ],
   "display_name": "Python 3",
   "env": null,
   "interrupt_mode": "signal",
   "language": "python",
   "metadata": null,
   "name": "python3"
  },
  "language_info": {
   "name": "python",
   "version": "3.8.10 (default, Nov 14 2022, 12:59:47) \n[GCC 9.4.0]"
  },
  "name": "density_modeling.ipynb",
  "vscode": {
   "interpreter": {
    "hash": "916dbcbb3f70747c44a77c7bcd40155683ae19c65e1c03b4aa3499c5328201f1"
   }
  }
 },
 "nbformat": 4,
 "nbformat_minor": 2
}
